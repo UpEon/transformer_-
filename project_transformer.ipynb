{
 "cells": [
  {
   "cell_type": "markdown",
   "id": "bbd76525",
   "metadata": {},
   "source": [
    "# Project\n",
    "\n",
    "1. 관심 데이터 선정\n",
    " - AIHUB에서 한글 -> 영어 말뭉치 번역 데이터 선택\n",
    " \n",
    "\n",
    "2. 데이터 선정이유\n",
    " - 파파고와 같은 번역 프로그램을 만들때, 트랜스포머와 RNN 둘 중 어느 모델이 더 적합할지 궁금했다.\n",
    " - 자료 출처 : https://aihub.or.kr/\n",
    "\n",
    "3. 데이터를 이용한 가설 수립\n",
    " - 비슷한 조건에서 두 모델을 가동했을때, 트랜스포머 모델이 좀 더 나은 번역을 해낼 것 이다.\n",
    "\n",
    "4. 데이터 전처리\n",
    " - 데이터 양이 많을 경우 학습시간도 오래 걸릴뿐 아니라 메모리 부족으로 토큰화나 모델가동에 에러가 발생하였음.\n",
    " - 1,210,529 데이터를 10,000 개의 데이터만 사용하는 것으로 축약함.\n",
    "\n",
    "5. 딥러닝 방식 적용\n",
    " - transformer\n",
    " - RNN\n",
    "\n",
    "6. 모델 검증(Validation)"
   ]
  },
  {
   "cell_type": "markdown",
   "id": "13534aae",
   "metadata": {},
   "source": [
    "데이터 구성\n",
    "- sn - 데이터 번호\n",
    "- file_name - 정제된 원본 문서명\n",
    "- data_set - 기술과학/사회과학 구분\n",
    "- domain - 데이터 대분야\n",
    "- subdomain - 데이터 소분야\n",
    "- source - 원문 출처\n",
    "- ko - 한국어 문장\n",
    "- mt - 기계번역 문장\n",
    "- en - 영어 문장\n",
    "- source_language - 원문 언어 코드\n",
    "- target_language - 번역문 언어 코드\n",
    "- license - 라이선스\n",
    "- style - 문체"
   ]
  },
  {
   "cell_type": "markdown",
   "id": "b0a57e97",
   "metadata": {},
   "source": [
    "# 데이터셋 준비"
   ]
  },
  {
   "cell_type": "code",
   "execution_count": 8,
   "id": "7c21d994",
   "metadata": {},
   "outputs": [],
   "source": [
    "import numpy as np\n",
    "import matplotlib.pyplot as plt\n",
    "import tensorflow as tf\n",
    "import pandas as pd"
   ]
  },
  {
   "cell_type": "code",
   "execution_count": 9,
   "id": "48e693db",
   "metadata": {},
   "outputs": [
    {
     "name": "stdout",
     "output_type": "stream",
     "text": [
      "(1210529, 13) (151316, 13)\n"
     ]
    }
   ],
   "source": [
    "train_csv = '1113_social_train_set_1210529.csv'\n",
    "val_csv = '1113_social_valid_set_151316.csv'\n",
    "\n",
    "train_df = pd.read_csv(train_csv)\n",
    "val_df = pd.read_csv(val_csv)\n",
    "\n",
    "print(train_df.shape, val_df.shape)"
   ]
  },
  {
   "cell_type": "code",
   "execution_count": 10,
   "id": "8eb2b49e",
   "metadata": {},
   "outputs": [
    {
     "name": "stdout",
     "output_type": "stream",
     "text": [
      "<class 'pandas.core.frame.DataFrame'>\n",
      "RangeIndex: 1210529 entries, 0 to 1210528\n",
      "Data columns (total 13 columns):\n",
      " #   Column           Non-Null Count    Dtype \n",
      "---  ------           --------------    ----- \n",
      " 0   sn               1210529 non-null  object\n",
      " 1   file_name        1210529 non-null  object\n",
      " 2   data_set         1210529 non-null  object\n",
      " 3   domain           1210529 non-null  object\n",
      " 4   subdomain        1210529 non-null  object\n",
      " 5   source           1210529 non-null  object\n",
      " 6   ko               1210529 non-null  object\n",
      " 7   mt               1210529 non-null  object\n",
      " 8   en               1210529 non-null  object\n",
      " 9   source_language  1210529 non-null  object\n",
      " 10  target_language  1210529 non-null  object\n",
      " 11  license          1210529 non-null  object\n",
      " 12  style            1210529 non-null  object\n",
      "dtypes: object(13)\n",
      "memory usage: 120.1+ MB\n"
     ]
    }
   ],
   "source": [
    "train_df.info()"
   ]
  },
  {
   "cell_type": "code",
   "execution_count": 11,
   "id": "cdbe2cb7",
   "metadata": {},
   "outputs": [
    {
     "name": "stdout",
     "output_type": "stream",
     "text": [
      "<class 'pandas.core.frame.DataFrame'>\n",
      "RangeIndex: 151316 entries, 0 to 151315\n",
      "Data columns (total 13 columns):\n",
      " #   Column           Non-Null Count   Dtype \n",
      "---  ------           --------------   ----- \n",
      " 0   sn               151316 non-null  object\n",
      " 1   file_name        151316 non-null  object\n",
      " 2   data_set         151316 non-null  object\n",
      " 3   domain           151316 non-null  object\n",
      " 4   subdomain        151316 non-null  object\n",
      " 5   source           151316 non-null  object\n",
      " 6   ko               151316 non-null  object\n",
      " 7   mt               151316 non-null  object\n",
      " 8   en               151316 non-null  object\n",
      " 9   source_language  151316 non-null  object\n",
      " 10  target_language  151316 non-null  object\n",
      " 11  license          151316 non-null  object\n",
      " 12  style            151316 non-null  object\n",
      "dtypes: object(13)\n",
      "memory usage: 15.0+ MB\n"
     ]
    }
   ],
   "source": [
    "val_df.info()"
   ]
  },
  {
   "cell_type": "code",
   "execution_count": 12,
   "id": "6c5e14fb",
   "metadata": {},
   "outputs": [],
   "source": [
    "# 데이터 정리\n",
    "train_df = train_df[:10000]\n",
    "val_df = val_df[:4000]\n",
    "\n",
    "train_df = train_df[[\"ko\",\"en\"]]\n",
    "val_df = val_df[[\"ko\",\"en\"]]"
   ]
  },
  {
   "cell_type": "markdown",
   "id": "05cd86da",
   "metadata": {},
   "source": [
    "데이터양이 많아 모델링시 메모리 부족으로 부득이하게 축소하여 진행"
   ]
  },
  {
   "cell_type": "code",
   "execution_count": 8,
   "id": "8f0941df",
   "metadata": {},
   "outputs": [
    {
     "name": "stdout",
     "output_type": "stream",
     "text": [
      "(10000, 2)\n"
     ]
    },
    {
     "data": {
      "text/html": [
       "<div>\n",
       "<style scoped>\n",
       "    .dataframe tbody tr th:only-of-type {\n",
       "        vertical-align: middle;\n",
       "    }\n",
       "\n",
       "    .dataframe tbody tr th {\n",
       "        vertical-align: top;\n",
       "    }\n",
       "\n",
       "    .dataframe thead th {\n",
       "        text-align: right;\n",
       "    }\n",
       "</style>\n",
       "<table border=\"1\" class=\"dataframe\">\n",
       "  <thead>\n",
       "    <tr style=\"text-align: right;\">\n",
       "      <th></th>\n",
       "      <th>ko</th>\n",
       "      <th>en</th>\n",
       "    </tr>\n",
       "  </thead>\n",
       "  <tbody>\n",
       "    <tr>\n",
       "      <th>0</th>\n",
       "      <td>제2항을 함께 두는 것이 적절한지에 대하여 논의 과정에서 의문이 제기되기도 하였다.</td>\n",
       "      <td>In the course of the discussion, questions wer...</td>\n",
       "    </tr>\n",
       "    <tr>\n",
       "      <th>1</th>\n",
       "      <td>문제는 거래가 끊어진 경우에는 실제 거래가 이뤄지지 않기 때문에 이러한 실거래가 자...</td>\n",
       "      <td>If the transaction is cut off, the actual tran...</td>\n",
       "    </tr>\n",
       "    <tr>\n",
       "      <th>2</th>\n",
       "      <td>이러한 공공 부문 이동기기 개인 영상정보 규율의 문제점을 개선하기 위해 보호 체계 ...</td>\n",
       "      <td>This discussed ways to improve the protection ...</td>\n",
       "    </tr>\n",
       "    <tr>\n",
       "      <th>3</th>\n",
       "      <td>그 내용은 부품 사업자가 쉽게 알 수 없고 관여할 수 없기 때문에 중간 부품 생산자...</td>\n",
       "      <td>Since the contents are not easily known and in...</td>\n",
       "    </tr>\n",
       "    <tr>\n",
       "      <th>4</th>\n",
       "      <td>매칭정보를 획득하게 되면 통상 ‘ARP spoofing’이라는 해킹기법을 사용한다.</td>\n",
       "      <td>When matching information is obtained, a hacki...</td>\n",
       "    </tr>\n",
       "  </tbody>\n",
       "</table>\n",
       "</div>"
      ],
      "text/plain": [
       "                                                  ko  \\\n",
       "0     제2항을 함께 두는 것이 적절한지에 대하여 논의 과정에서 의문이 제기되기도 하였다.   \n",
       "1  문제는 거래가 끊어진 경우에는 실제 거래가 이뤄지지 않기 때문에 이러한 실거래가 자...   \n",
       "2  이러한 공공 부문 이동기기 개인 영상정보 규율의 문제점을 개선하기 위해 보호 체계 ...   \n",
       "3  그 내용은 부품 사업자가 쉽게 알 수 없고 관여할 수 없기 때문에 중간 부품 생산자...   \n",
       "4     매칭정보를 획득하게 되면 통상 ‘ARP spoofing’이라는 해킹기법을 사용한다.   \n",
       "\n",
       "                                                  en  \n",
       "0  In the course of the discussion, questions wer...  \n",
       "1  If the transaction is cut off, the actual tran...  \n",
       "2  This discussed ways to improve the protection ...  \n",
       "3  Since the contents are not easily known and in...  \n",
       "4  When matching information is obtained, a hacki...  "
      ]
     },
     "execution_count": 8,
     "metadata": {},
     "output_type": "execute_result"
    }
   ],
   "source": [
    "print(train_df.shape)\n",
    "train_df.head()"
   ]
  },
  {
   "cell_type": "code",
   "execution_count": 9,
   "id": "1a656738",
   "metadata": {},
   "outputs": [
    {
     "name": "stdout",
     "output_type": "stream",
     "text": [
      "(4000, 2)\n"
     ]
    },
    {
     "data": {
      "text/html": [
       "<div>\n",
       "<style scoped>\n",
       "    .dataframe tbody tr th:only-of-type {\n",
       "        vertical-align: middle;\n",
       "    }\n",
       "\n",
       "    .dataframe tbody tr th {\n",
       "        vertical-align: top;\n",
       "    }\n",
       "\n",
       "    .dataframe thead th {\n",
       "        text-align: right;\n",
       "    }\n",
       "</style>\n",
       "<table border=\"1\" class=\"dataframe\">\n",
       "  <thead>\n",
       "    <tr style=\"text-align: right;\">\n",
       "      <th></th>\n",
       "      <th>ko</th>\n",
       "      <th>en</th>\n",
       "    </tr>\n",
       "  </thead>\n",
       "  <tbody>\n",
       "    <tr>\n",
       "      <th>0</th>\n",
       "      <td>국경 없는 인터넷의 특 성을 감안하여, 저작권법의 속지적인 특성에도 불구하고 미국 ...</td>\n",
       "      <td>Considering the type regarding the Internet wi...</td>\n",
       "    </tr>\n",
       "    <tr>\n",
       "      <th>1</th>\n",
       "      <td>학습자들이 제시한 건의사항을 해결하기 위해 다음과 같은 논의가 필요하다.</td>\n",
       "      <td>The following discussion is needed to resolve ...</td>\n",
       "    </tr>\n",
       "    <tr>\n",
       "      <th>2</th>\n",
       "      <td>2011년에 발생한 저축은행 부실사태 이후 관련 연구가 종종 이뤄지고 있다.</td>\n",
       "      <td>Some studies on the period after the savings b...</td>\n",
       "    </tr>\n",
       "    <tr>\n",
       "      <th>3</th>\n",
       "      <td>기업의 성장 측정 방식을 선택함에 있어 기업 규모에 따른 편향적인 결과가 도출되는 ...</td>\n",
       "      <td>In selecting a company's growth measurement me...</td>\n",
       "    </tr>\n",
       "    <tr>\n",
       "      <th>4</th>\n",
       "      <td>1인 여행객 중 여성은 52.3%, 남성은 47.7%로 여성이 상대적으로 나 홀로 ...</td>\n",
       "      <td>Among solo travelers, 52.3% were female and 47...</td>\n",
       "    </tr>\n",
       "  </tbody>\n",
       "</table>\n",
       "</div>"
      ],
      "text/plain": [
       "                                                  ko  \\\n",
       "0  국경 없는 인터넷의 특 성을 감안하여, 저작권법의 속지적인 특성에도 불구하고 미국 ...   \n",
       "1           학습자들이 제시한 건의사항을 해결하기 위해 다음과 같은 논의가 필요하다.   \n",
       "2         2011년에 발생한 저축은행 부실사태 이후 관련 연구가 종종 이뤄지고 있다.   \n",
       "3  기업의 성장 측정 방식을 선택함에 있어 기업 규모에 따른 편향적인 결과가 도출되는 ...   \n",
       "4  1인 여행객 중 여성은 52.3%, 남성은 47.7%로 여성이 상대적으로 나 홀로 ...   \n",
       "\n",
       "                                                  en  \n",
       "0  Considering the type regarding the Internet wi...  \n",
       "1  The following discussion is needed to resolve ...  \n",
       "2  Some studies on the period after the savings b...  \n",
       "3  In selecting a company's growth measurement me...  \n",
       "4  Among solo travelers, 52.3% were female and 47...  "
      ]
     },
     "execution_count": 9,
     "metadata": {},
     "output_type": "execute_result"
    }
   ],
   "source": [
    "print(val_df.shape)\n",
    "val_df.head()"
   ]
  },
  {
   "cell_type": "markdown",
   "id": "4c57e712",
   "metadata": {},
   "source": [
    "### transformer\n",
    "\n",
    "개념 이해를 돕기위한 트랜스포머 이론 예시\n",
    "(참고 사이트 : https://wikidocs.net/31379)"
   ]
  },
  {
   "cell_type": "code",
   "execution_count": 13,
   "id": "c708e2ed",
   "metadata": {},
   "outputs": [],
   "source": [
    "import pandas as pd\n",
    "import urllib.request\n",
    "import tensorflow_datasets as tfds\n",
    "import tensorflow as tf\n",
    "import time\n",
    "import numpy as np\n",
    "import matplotlib.pyplot as plt\n",
    "import re"
   ]
  },
  {
   "cell_type": "code",
   "execution_count": 14,
   "id": "f1f03e8f",
   "metadata": {},
   "outputs": [
    {
     "data": {
      "text/html": [
       "<div>\n",
       "<style scoped>\n",
       "    .dataframe tbody tr th:only-of-type {\n",
       "        vertical-align: middle;\n",
       "    }\n",
       "\n",
       "    .dataframe tbody tr th {\n",
       "        vertical-align: top;\n",
       "    }\n",
       "\n",
       "    .dataframe thead th {\n",
       "        text-align: right;\n",
       "    }\n",
       "</style>\n",
       "<table border=\"1\" class=\"dataframe\">\n",
       "  <thead>\n",
       "    <tr style=\"text-align: right;\">\n",
       "      <th></th>\n",
       "      <th>ko</th>\n",
       "      <th>en</th>\n",
       "    </tr>\n",
       "  </thead>\n",
       "  <tbody>\n",
       "    <tr>\n",
       "      <th>0</th>\n",
       "      <td>제2항을 함께 두는 것이 적절한지에 대하여 논의 과정에서 의문이 제기되기도 하였다.</td>\n",
       "      <td>In the course of the discussion, questions wer...</td>\n",
       "    </tr>\n",
       "    <tr>\n",
       "      <th>1</th>\n",
       "      <td>문제는 거래가 끊어진 경우에는 실제 거래가 이뤄지지 않기 때문에 이러한 실거래가 자...</td>\n",
       "      <td>If the transaction is cut off, the actual tran...</td>\n",
       "    </tr>\n",
       "    <tr>\n",
       "      <th>2</th>\n",
       "      <td>이러한 공공 부문 이동기기 개인 영상정보 규율의 문제점을 개선하기 위해 보호 체계 ...</td>\n",
       "      <td>This discussed ways to improve the protection ...</td>\n",
       "    </tr>\n",
       "    <tr>\n",
       "      <th>3</th>\n",
       "      <td>그 내용은 부품 사업자가 쉽게 알 수 없고 관여할 수 없기 때문에 중간 부품 생산자...</td>\n",
       "      <td>Since the contents are not easily known and in...</td>\n",
       "    </tr>\n",
       "    <tr>\n",
       "      <th>4</th>\n",
       "      <td>매칭정보를 획득하게 되면 통상 ‘ARP spoofing’이라는 해킹기법을 사용한다.</td>\n",
       "      <td>When matching information is obtained, a hacki...</td>\n",
       "    </tr>\n",
       "  </tbody>\n",
       "</table>\n",
       "</div>"
      ],
      "text/plain": [
       "                                                  ko  \\\n",
       "0     제2항을 함께 두는 것이 적절한지에 대하여 논의 과정에서 의문이 제기되기도 하였다.   \n",
       "1  문제는 거래가 끊어진 경우에는 실제 거래가 이뤄지지 않기 때문에 이러한 실거래가 자...   \n",
       "2  이러한 공공 부문 이동기기 개인 영상정보 규율의 문제점을 개선하기 위해 보호 체계 ...   \n",
       "3  그 내용은 부품 사업자가 쉽게 알 수 없고 관여할 수 없기 때문에 중간 부품 생산자...   \n",
       "4     매칭정보를 획득하게 되면 통상 ‘ARP spoofing’이라는 해킹기법을 사용한다.   \n",
       "\n",
       "                                                  en  \n",
       "0  In the course of the discussion, questions wer...  \n",
       "1  If the transaction is cut off, the actual tran...  \n",
       "2  This discussed ways to improve the protection ...  \n",
       "3  Since the contents are not easily known and in...  \n",
       "4  When matching information is obtained, a hacki...  "
      ]
     },
     "execution_count": 14,
     "metadata": {},
     "output_type": "execute_result"
    }
   ],
   "source": [
    "train_df.head()"
   ]
  },
  {
   "cell_type": "code",
   "execution_count": 16,
   "id": "cc36d2d0",
   "metadata": {},
   "outputs": [
    {
     "data": {
      "text/html": [
       "<div>\n",
       "<style scoped>\n",
       "    .dataframe tbody tr th:only-of-type {\n",
       "        vertical-align: middle;\n",
       "    }\n",
       "\n",
       "    .dataframe tbody tr th {\n",
       "        vertical-align: top;\n",
       "    }\n",
       "\n",
       "    .dataframe thead th {\n",
       "        text-align: right;\n",
       "    }\n",
       "</style>\n",
       "<table border=\"1\" class=\"dataframe\">\n",
       "  <thead>\n",
       "    <tr style=\"text-align: right;\">\n",
       "      <th></th>\n",
       "      <th>ko</th>\n",
       "      <th>en</th>\n",
       "    </tr>\n",
       "  </thead>\n",
       "  <tbody>\n",
       "    <tr>\n",
       "      <th>0</th>\n",
       "      <td>국경 없는 인터넷의 특 성을 감안하여, 저작권법의 속지적인 특성에도 불구하고 미국 ...</td>\n",
       "      <td>Considering the type regarding the Internet wi...</td>\n",
       "    </tr>\n",
       "    <tr>\n",
       "      <th>1</th>\n",
       "      <td>학습자들이 제시한 건의사항을 해결하기 위해 다음과 같은 논의가 필요하다.</td>\n",
       "      <td>The following discussion is needed to resolve ...</td>\n",
       "    </tr>\n",
       "    <tr>\n",
       "      <th>2</th>\n",
       "      <td>2011년에 발생한 저축은행 부실사태 이후 관련 연구가 종종 이뤄지고 있다.</td>\n",
       "      <td>Some studies on the period after the savings b...</td>\n",
       "    </tr>\n",
       "    <tr>\n",
       "      <th>3</th>\n",
       "      <td>기업의 성장 측정 방식을 선택함에 있어 기업 규모에 따른 편향적인 결과가 도출되는 ...</td>\n",
       "      <td>In selecting a company's growth measurement me...</td>\n",
       "    </tr>\n",
       "    <tr>\n",
       "      <th>4</th>\n",
       "      <td>1인 여행객 중 여성은 52.3%, 남성은 47.7%로 여성이 상대적으로 나 홀로 ...</td>\n",
       "      <td>Among solo travelers, 52.3% were female and 47...</td>\n",
       "    </tr>\n",
       "  </tbody>\n",
       "</table>\n",
       "</div>"
      ],
      "text/plain": [
       "                                                  ko  \\\n",
       "0  국경 없는 인터넷의 특 성을 감안하여, 저작권법의 속지적인 특성에도 불구하고 미국 ...   \n",
       "1           학습자들이 제시한 건의사항을 해결하기 위해 다음과 같은 논의가 필요하다.   \n",
       "2         2011년에 발생한 저축은행 부실사태 이후 관련 연구가 종종 이뤄지고 있다.   \n",
       "3  기업의 성장 측정 방식을 선택함에 있어 기업 규모에 따른 편향적인 결과가 도출되는 ...   \n",
       "4  1인 여행객 중 여성은 52.3%, 남성은 47.7%로 여성이 상대적으로 나 홀로 ...   \n",
       "\n",
       "                                                  en  \n",
       "0  Considering the type regarding the Internet wi...  \n",
       "1  The following discussion is needed to resolve ...  \n",
       "2  Some studies on the period after the savings b...  \n",
       "3  In selecting a company's growth measurement me...  \n",
       "4  Among solo travelers, 52.3% were female and 47...  "
      ]
     },
     "execution_count": 16,
     "metadata": {},
     "output_type": "execute_result"
    }
   ],
   "source": [
    "val_df.head()"
   ]
  },
  {
   "cell_type": "markdown",
   "id": "ac7504de",
   "metadata": {},
   "source": [
    "토큰화를 위해 형태소 분석기를 사용하지 않고, 다른 방법인 학습 기반의 토크나이저를 사용하였습니다.\\\n",
    "원 데이터에서 ?, ., !와 같은 구두점을 미리 처리해두어야 하는데, 구두점들을 단순히 제거할 수도 있겠지만, 여기서는 구두점 앞에 공백. 즉, 띄어쓰기를 추가하여 다른 문자들과 구분하겠습니다."
   ]
  },
  {
   "cell_type": "code",
   "execution_count": 28,
   "id": "527fb5dc",
   "metadata": {},
   "outputs": [],
   "source": [
    "questions = []\n",
    "for sentence in train_df['ko']:\n",
    "    # 구두점에 대해서 띄어쓰기\n",
    "    # ex) 12시 땡! -> 12시 땡 !\n",
    "    sentence = re.sub(r\"([?.!,])\", r\" \\1 \", sentence)\n",
    "    sentence = sentence.strip()\n",
    "    questions.append(sentence)"
   ]
  },
  {
   "cell_type": "code",
   "execution_count": 29,
   "id": "afee7321",
   "metadata": {},
   "outputs": [],
   "source": [
    "answers = []\n",
    "for sentence in train_df['en']:\n",
    "    # 구두점에 대해서 띄어쓰기\n",
    "    # ex) 12시 땡! -> 12시 땡 !\n",
    "    sentence = re.sub(r\"([?.!,])\", r\" \\1 \", sentence)\n",
    "    sentence = sentence.strip()\n",
    "    answers.append(sentence)"
   ]
  },
  {
   "cell_type": "code",
   "execution_count": 30,
   "id": "33b1e45e",
   "metadata": {},
   "outputs": [],
   "source": [
    "questions2 = []\n",
    "for sentence in val_df['ko']:\n",
    "    # 구두점에 대해서 띄어쓰기\n",
    "    # ex) 12시 땡! -> 12시 땡 !\n",
    "    sentence = re.sub(r\"([?.!,])\", r\" \\1 \", sentence)\n",
    "    sentence = sentence.strip()\n",
    "    questions2.append(sentence)"
   ]
  },
  {
   "cell_type": "code",
   "execution_count": 31,
   "id": "a8faf04a",
   "metadata": {},
   "outputs": [],
   "source": [
    "answers2 = []\n",
    "for sentence in val_df['en']:\n",
    "    # 구두점에 대해서 띄어쓰기\n",
    "    # ex) 12시 땡! -> 12시 땡 !\n",
    "    sentence = re.sub(r\"([?.!,])\", r\" \\1 \", sentence)\n",
    "    sentence = sentence.strip()\n",
    "    answers2.append(sentence)"
   ]
  },
  {
   "cell_type": "markdown",
   "id": "a3ca6ed2",
   "metadata": {},
   "source": [
    "질문과 대답에 대해서 상위 5개만 출력하여 구두점들이 띄어쓰기를 통해 분리되었는지 확인해봅시다."
   ]
  },
  {
   "cell_type": "code",
   "execution_count": 32,
   "id": "853152c7",
   "metadata": {},
   "outputs": [
    {
     "name": "stdout",
     "output_type": "stream",
     "text": [
      "['제2항을 함께 두는 것이 적절한지에 대하여 논의 과정에서 의문이 제기되기도 하였다 .', '문제는 거래가 끊어진 경우에는 실제 거래가 이뤄지지 않기 때문에 이러한 실거래가 자료조차 찾을 수 없다는 점이다 .', '이러한 공공 부문 이동기기 개인 영상정보 규율의 문제점을 개선하기 위해 보호 체계 및 법제 개선방안을 논의하였다 .', '그 내용은 부품 사업자가 쉽게 알 수 없고 관여할 수 없기 때문에 중간 부품 생산자의 판매 행위는 대단히 불안한 지위에 놓이게 된다 .', '매칭정보를 획득하게 되면 통상 ‘ARP spoofing’이라는 해킹기법을 사용한다 .']\n",
      "['In the course of the discussion ,  questions were raised as to whether it was appropriate to put Paragraph 2 together .', 'If the transaction is cut off ,  the actual transaction price cannot even be found because the actual transaction will not take place .', 'This discussed ways to improve the protection system and legal system in order to improve such a problem of the regulation of personal image information on mobile devices in the public sector .', \"Since the contents are not easily known and involved by the parts business operator ,  intermediate parts manufacturers' sales behavior is placed in a precarious position .\", \"When matching information is obtained ,  a hacking technique called 'ARP spoofing' is usually used .\"]\n"
     ]
    }
   ],
   "source": [
    "print(questions[:5])\n",
    "print(answers[:5])"
   ]
  },
  {
   "cell_type": "markdown",
   "id": "8574b9ad",
   "metadata": {},
   "source": [
    "### 단어 집합 생성"
   ]
  },
  {
   "cell_type": "code",
   "execution_count": 33,
   "id": "23029821",
   "metadata": {},
   "outputs": [],
   "source": [
    "# 서브워드텍스트인코더를 사용하여 질문과 답변을 모두 포함한 단어 집합(Vocabulary) 생성\n",
    "tokenizer = tfds.deprecated.text.SubwordTextEncoder.build_from_corpus(\n",
    "    questions + answers, target_vocab_size=2**13)\n",
    "\n",
    "# 시작 토큰과 종료 토큰에 대한 정수 부여.\n",
    "START_TOKEN, END_TOKEN = [tokenizer.vocab_size], [tokenizer.vocab_size + 1]\n",
    "\n",
    "# 시작 토큰과 종료 토큰을 고려하여 단어 집합의 크기를 + 2\n",
    "VOCAB_SIZE = tokenizer.vocab_size + 2"
   ]
  },
  {
   "cell_type": "code",
   "execution_count": 34,
   "id": "f832d46e",
   "metadata": {},
   "outputs": [],
   "source": [
    "# 서브워드텍스트인코더를 사용하여 질문과 답변을 모두 포함한 단어 집합(Vocabulary) 생성\n",
    "tokenizer2 = tfds.deprecated.text.SubwordTextEncoder.build_from_corpus(\n",
    "    questions2 + answers2, target_vocab_size=2**13)\n",
    "\n",
    "# 시작 토큰과 종료 토큰에 대한 정수 부여.\n",
    "START_TOKEN2, END_TOKEN2 = [tokenizer2.vocab_size], [tokenizer2.vocab_size + 1]\n",
    "\n",
    "# 시작 토큰과 종료 토큰을 고려하여 단어 집합의 크기를 + 2\n",
    "VOCAB_SIZE2 = tokenizer2.vocab_size + 2"
   ]
  },
  {
   "cell_type": "code",
   "execution_count": 35,
   "id": "cce929a9",
   "metadata": {},
   "outputs": [
    {
     "name": "stdout",
     "output_type": "stream",
     "text": [
      "시작 토큰 번호 : [8094]\n",
      "종료 토큰 번호 : [8095]\n",
      "단어 집합의 크기 : 8096\n"
     ]
    }
   ],
   "source": [
    "print('시작 토큰 번호 :',START_TOKEN)\n",
    "print('종료 토큰 번호 :',END_TOKEN)\n",
    "print('단어 집합의 크기 :',VOCAB_SIZE)"
   ]
  },
  {
   "cell_type": "markdown",
   "id": "0d79dc5b",
   "metadata": {},
   "source": [
    "### 정수 인코딩과 패딩"
   ]
  },
  {
   "cell_type": "code",
   "execution_count": 36,
   "id": "49112e4a",
   "metadata": {},
   "outputs": [
    {
     "name": "stdout",
     "output_type": "stream",
     "text": [
      "Tokenized sample question: [2372, 3, 151, 5708, 2358, 258, 125, 221, 28, 829, 1345, 2284, 17, 216, 24, 125, 221, 675, 7380, 112, 1]\n"
     ]
    }
   ],
   "source": [
    "# 서브워드텍스트인코더 토크나이저의 .encode()를 사용하여 텍스트 시퀀스를 정수 시퀀스로 변환.\n",
    "print('Tokenized sample question: {}'.format(tokenizer.encode(questions[20])))"
   ]
  },
  {
   "cell_type": "code",
   "execution_count": 37,
   "id": "4d383262",
   "metadata": {},
   "outputs": [
    {
     "name": "stdout",
     "output_type": "stream",
     "text": [
      "정수 인코딩 후의 문장 [2372, 3, 151, 5708, 2358, 258, 125, 221, 28, 829, 1345, 2284, 17, 216, 24, 125, 221, 675, 7380, 112, 1]\n",
      "기존 문장: 반면 ,  실적이 예상보다 부진한 기업의 주요 원인은 내수 부진이라고 응답하였다 .\n"
     ]
    }
   ],
   "source": [
    "# 서브워드텍스트인코더 토크나이저의 .encode()와 decode() 테스트해보기\n",
    "\n",
    "# 임의의 입력 문장을 sample_string에 저장\n",
    "sample_string = questions[20]\n",
    "\n",
    "# encode() : 텍스트 시퀀스 --> 정수 시퀀스\n",
    "tokenized_string = tokenizer.encode(sample_string)\n",
    "print ('정수 인코딩 후의 문장 {}'.format(tokenized_string))\n",
    "\n",
    "# decode() : 정수 시퀀스 --> 텍스트 시퀀스\n",
    "original_string = tokenizer.decode(tokenized_string)\n",
    "print ('기존 문장: {}'.format(original_string))"
   ]
  },
  {
   "cell_type": "code",
   "execution_count": 38,
   "id": "c676b1f2",
   "metadata": {},
   "outputs": [
    {
     "name": "stdout",
     "output_type": "stream",
     "text": [
      "2372 ----> 반면\n",
      "3 ---->  ,  \n",
      "151 ----> 실\n",
      "5708 ----> 적이 \n",
      "2358 ----> 예상\n",
      "258 ----> 보다 \n",
      "125 ----> 부\n",
      "221 ----> 진\n",
      "28 ----> 한 \n",
      "829 ----> 기업의 \n",
      "1345 ----> 주요 \n",
      "2284 ----> 원인\n",
      "17 ----> 은 \n",
      "216 ----> 내\n",
      "24 ----> 수 \n",
      "125 ----> 부\n",
      "221 ----> 진\n",
      "675 ----> 이라고 \n",
      "7380 ----> 응답\n",
      "112 ----> 하였다\n",
      "1 ---->  .\n"
     ]
    }
   ],
   "source": [
    "# 각 정수는 각 단어와 어떻게 mapping되는지 병렬로 출력\n",
    "# 서브워드텍스트인코더는 의미있는 단위의 서브워드로 토크나이징한다. 띄어쓰기 단위 X 형태소 분석 단위 X\n",
    "for ts in tokenized_string:\n",
    "  print ('{} ----> {}'.format(ts, tokenizer.decode([ts])))"
   ]
  },
  {
   "cell_type": "code",
   "execution_count": 39,
   "id": "406e23c6",
   "metadata": {},
   "outputs": [],
   "source": [
    "# 최대 길이를 40으로 정의\n",
    "MAX_LENGTH = 40\n",
    "\n",
    "# 토큰화 / 정수 인코딩 / 시작 토큰과 종료 토큰 추가 / 패딩\n",
    "def tokenize_and_filter(inputs, outputs):\n",
    "  tokenized_inputs, tokenized_outputs = [], []\n",
    "  \n",
    "  for (sentence1, sentence2) in zip(inputs, outputs):\n",
    "    # encode(토큰화 + 정수 인코딩), 시작 토큰과 종료 토큰 추가\n",
    "    sentence1 = START_TOKEN + tokenizer.encode(sentence1) + END_TOKEN\n",
    "    sentence2 = START_TOKEN + tokenizer.encode(sentence2) + END_TOKEN\n",
    "\n",
    "    tokenized_inputs.append(sentence1)\n",
    "    tokenized_outputs.append(sentence2)\n",
    "  \n",
    "  # 패딩\n",
    "  tokenized_inputs = tf.keras.preprocessing.sequence.pad_sequences(\n",
    "      tokenized_inputs, maxlen=MAX_LENGTH, padding='post')\n",
    "  tokenized_outputs = tf.keras.preprocessing.sequence.pad_sequences(\n",
    "      tokenized_outputs, maxlen=MAX_LENGTH, padding='post')\n",
    "  \n",
    "  return tokenized_inputs, tokenized_outputs"
   ]
  },
  {
   "cell_type": "code",
   "execution_count": 40,
   "id": "5f3bf921",
   "metadata": {},
   "outputs": [],
   "source": [
    "# 최대 길이를 40으로 정의\n",
    "MAX_LENGTH = 40\n",
    "\n",
    "# 토큰화 / 정수 인코딩 / 시작 토큰과 종료 토큰 추가 / 패딩\n",
    "def tokenize_and_filter2(inputs, outputs):\n",
    "  tokenized_inputs2, tokenized_outputs2 = [], []\n",
    "  \n",
    "  for (sentence1, sentence2) in zip(inputs, outputs):\n",
    "    # encode(토큰화 + 정수 인코딩), 시작 토큰과 종료 토큰 추가\n",
    "    sentence1 = START_TOKEN2 + tokenizer2.encode(sentence1) + END_TOKEN2\n",
    "    sentence2 = START_TOKEN2 + tokenizer2.encode(sentence2) + END_TOKEN2\n",
    "\n",
    "    tokenized_inputs2.append(sentence1)\n",
    "    tokenized_outputs2.append(sentence2)\n",
    "  \n",
    "  # 패딩\n",
    "  tokenized_inputs2 = tf.keras.preprocessing.sequence.pad_sequences(\n",
    "      tokenized_inputs2, maxlen=MAX_LENGTH, padding='post')\n",
    "  tokenized_outputs2 = tf.keras.preprocessing.sequence.pad_sequences(\n",
    "      tokenized_outputs2, maxlen=MAX_LENGTH, padding='post')\n",
    "  \n",
    "  return tokenized_inputs2, tokenized_outputs2"
   ]
  },
  {
   "cell_type": "code",
   "execution_count": 41,
   "id": "360af2ad",
   "metadata": {
    "scrolled": true
   },
   "outputs": [],
   "source": [
    "questions, answers = tokenize_and_filter(questions, answers)"
   ]
  },
  {
   "cell_type": "code",
   "execution_count": 42,
   "id": "8b6394fa",
   "metadata": {},
   "outputs": [],
   "source": [
    "questions2, answers2 = tokenize_and_filter2(questions2, answers2)"
   ]
  },
  {
   "cell_type": "code",
   "execution_count": 43,
   "id": "1f3f74da",
   "metadata": {},
   "outputs": [
    {
     "name": "stdout",
     "output_type": "stream",
     "text": [
      "질문 데이터의 크기(shape) : (10000, 40)\n",
      "답변 데이터의 크기(shape) : (10000, 40)\n"
     ]
    }
   ],
   "source": [
    "print('질문 데이터의 크기(shape) :', questions.shape)\n",
    "print('답변 데이터의 크기(shape) :', answers.shape)"
   ]
  },
  {
   "cell_type": "code",
   "execution_count": 44,
   "id": "0309e05e",
   "metadata": {},
   "outputs": [
    {
     "name": "stdout",
     "output_type": "stream",
     "text": [
      "[8094 6904   12  665  580   15  174  153  591  240 4242  868  686 7870\n",
      "  989 4258   14 1375 3960   50  112    1 8095    0    0    0    0    0\n",
      "    0    0    0    0    0    0    0    0    0    0    0    0]\n",
      "[8094   33    2 6327    4    2 5949    3 2553   69 4335   21    6  366\n",
      "   27   34 1430    6 4528 7809 7870  514 7071    1 8095    0    0    0\n",
      "    0    0    0    0    0    0    0    0    0    0    0    0]\n"
     ]
    }
   ],
   "source": [
    "# 0번째 샘플을 임의로 출력\n",
    "print(questions[0])\n",
    "print(answers[0])"
   ]
  },
  {
   "cell_type": "markdown",
   "id": "fc156aa4",
   "metadata": {},
   "source": [
    "### 인코더와 디코더의 입력, 그리고 레이블 만들기."
   ]
  },
  {
   "cell_type": "code",
   "execution_count": 45,
   "id": "9d0f7fbf",
   "metadata": {},
   "outputs": [
    {
     "name": "stdout",
     "output_type": "stream",
     "text": [
      "단어 집합의 크기(Vocab size): 8096\n",
      "전체 샘플의 수(Number of samples): 10000\n"
     ]
    }
   ],
   "source": [
    "print('단어 집합의 크기(Vocab size): {}'.format(VOCAB_SIZE))\n",
    "print('전체 샘플의 수(Number of samples): {}'.format(len(questions)))"
   ]
  },
  {
   "cell_type": "code",
   "execution_count": 46,
   "id": "ca1bfd10",
   "metadata": {},
   "outputs": [],
   "source": [
    "# 텐서플로우 dataset을 이용하여 셔플(shuffle)을 수행하되, 배치 크기로 데이터를 묶는다.\n",
    "# 또한 이 과정에서 교사 강요(teacher forcing)을 사용하기 위해서 디코더의 입력과 실제값 시퀀스를 구성한다.\n",
    "BATCH_SIZE = 64\n",
    "BUFFER_SIZE = 20000\n",
    "\n",
    "# 디코더의 실제값 시퀀스에서는 시작 토큰을 제거해야 한다.\n",
    "dataset = tf.data.Dataset.from_tensor_slices((\n",
    "    {\n",
    "        'inputs': questions,\n",
    "        'dec_inputs': answers[:, :-1] # 디코더의 입력. 마지막 패딩 토큰이 제거된다.\n",
    "    },\n",
    "    {\n",
    "        'outputs': answers[:, 1:]  # 맨 처음 토큰이 제거된다. 다시 말해 시작 토큰이 제거된다.\n",
    "    },\n",
    "))\n",
    "\n",
    "dataset = dataset.cache()\n",
    "dataset = dataset.shuffle(BUFFER_SIZE)\n",
    "dataset = dataset.batch(BATCH_SIZE)\n",
    "dataset = dataset.prefetch(tf.data.experimental.AUTOTUNE)"
   ]
  },
  {
   "cell_type": "code",
   "execution_count": 47,
   "id": "cc2869fd",
   "metadata": {},
   "outputs": [],
   "source": [
    "# 디코더의 실제값 시퀀스에서는 시작 토큰을 제거해야 한다.\n",
    "dataset_val = tf.data.Dataset.from_tensor_slices((\n",
    "    {\n",
    "        'inputs': questions2,\n",
    "        'dec_inputs': answers2[:, :-1] # 디코더의 입력. 마지막 패딩 토큰이 제거된다.\n",
    "    },\n",
    "    {\n",
    "        'outputs': answers2[:, 1:]  # 맨 처음 토큰이 제거된다. 다시 말해 시작 토큰이 제거된다.\n",
    "    },\n",
    "))\n",
    "\n",
    "dataset_val = dataset_val.cache()\n",
    "dataset_val = dataset_val.shuffle(BUFFER_SIZE)\n",
    "dataset_val = dataset_val.batch(BATCH_SIZE)\n",
    "dataset_val = dataset_val.prefetch(tf.data.experimental.AUTOTUNE)"
   ]
  },
  {
   "cell_type": "code",
   "execution_count": 48,
   "id": "beb4db4c",
   "metadata": {},
   "outputs": [
    {
     "name": "stdout",
     "output_type": "stream",
     "text": [
      "[8094   33    2 6327    4    2 5949    3 2553   69 4335   21    6  366\n",
      "   27   34 1430    6 4528 7809 7870  514 7071    1 8095    0    0    0\n",
      "    0    0    0    0    0    0    0    0    0    0    0    0]\n",
      "[[8094   33    2 6327    4    2 5949    3 2553   69 4335   21    6  366\n",
      "    27   34 1430    6 4528 7809 7870  514 7071    1 8095    0    0    0\n",
      "     0    0    0    0    0    0    0    0    0    0    0]]\n",
      "[[  33    2 6327    4    2 5949    3 2553   69 4335   21    6  366   27\n",
      "    34 1430    6 4528 7809 7870  514 7071    1 8095    0    0    0    0\n",
      "     0    0    0    0    0    0    0    0    0    0    0]]\n"
     ]
    }
   ],
   "source": [
    "# 임의의 샘플에 대해서 [:, :-1]과 [:, 1:]이 어떤 의미를 가지는지 테스트해본다.\n",
    "print(answers[0]) # 기존 샘플\n",
    "print(answers[:1][:, :-1]) # 마지막 패딩 토큰 제거하면서 길이가 39가 된다.\n",
    "print(answers[:1][:, 1:]) # 맨 처음 토큰이 제거된다. 다시 말해 시작 토큰이 제거된다. 길이는 역시 39가 된다."
   ]
  },
  {
   "cell_type": "markdown",
   "id": "ffc37383",
   "metadata": {},
   "source": [
    "### 트랜스포머 만들기"
   ]
  },
  {
   "cell_type": "code",
   "execution_count": 49,
   "id": "91d926db",
   "metadata": {},
   "outputs": [
    {
     "name": "stdout",
     "output_type": "stream",
     "text": [
      "(1, 8096, 256)\n",
      "(1, 8096, 256)\n"
     ]
    }
   ],
   "source": [
    "tf.keras.backend.clear_session()\n",
    "\n",
    "# 하이퍼파라미터\n",
    "D_MODEL = 256\n",
    "NUM_LAYERS = 2\n",
    "NUM_HEADS = 8\n",
    "DFF = 512\n",
    "DROPOUT = 0.1\n",
    "\n",
    "model = transformer(\n",
    "    vocab_size=VOCAB_SIZE,\n",
    "    num_layers=NUM_LAYERS,\n",
    "    dff=DFF,\n",
    "    d_model=D_MODEL,\n",
    "    num_heads=NUM_HEADS,\n",
    "    dropout=DROPOUT)"
   ]
  },
  {
   "cell_type": "code",
   "execution_count": 50,
   "id": "50a64e98",
   "metadata": {},
   "outputs": [],
   "source": [
    "# 학습률과 옵티마이저를 정의하고 모델을 컴파일합니다.\n",
    "\n",
    "learning_rate = CustomSchedule(D_MODEL)\n",
    "\n",
    "optimizer = tf.keras.optimizers.Adam(\n",
    "    learning_rate, beta_1=0.9, beta_2=0.98, epsilon=1e-9)\n",
    "\n",
    "def accuracy(y_true, y_pred):\n",
    "  # 레이블의 크기는 (batch_size, MAX_LENGTH - 1)\n",
    "  y_true = tf.reshape(y_true, shape=(-1, MAX_LENGTH - 1))\n",
    "  return tf.keras.metrics.sparse_categorical_accuracy(y_true, y_pred)\n",
    "\n",
    "model.compile(optimizer=optimizer, loss=loss_function, metrics=[accuracy])"
   ]
  },
  {
   "cell_type": "markdown",
   "id": "c679abea",
   "metadata": {},
   "source": [
    "모델을 학습합니다."
   ]
  },
  {
   "cell_type": "code",
   "execution_count": 51,
   "id": "08edeac8",
   "metadata": {},
   "outputs": [
    {
     "name": "stdout",
     "output_type": "stream",
     "text": [
      "Epoch 1/30\n",
      "157/157 [==============================] - 117s 717ms/step - loss: 6.8172 - accuracy: 0.0276 - val_loss: 6.6990 - val_accuracy: 0.0426\n",
      "Epoch 2/30\n",
      "157/157 [==============================] - 112s 713ms/step - loss: 5.8642 - accuracy: 0.0624 - val_loss: 6.4551 - val_accuracy: 0.0531\n",
      "Epoch 3/30\n",
      "157/157 [==============================] - 114s 727ms/step - loss: 5.1437 - accuracy: 0.1091 - val_loss: 6.7420 - val_accuracy: 0.0633\n",
      "Epoch 4/30\n",
      "157/157 [==============================] - 112s 711ms/step - loss: 4.6983 - accuracy: 0.1602 - val_loss: 7.3394 - val_accuracy: 0.0519\n",
      "Epoch 5/30\n",
      "157/157 [==============================] - 112s 716ms/step - loss: 4.3159 - accuracy: 0.1842 - val_loss: 7.8869 - val_accuracy: 0.0525\n",
      "Epoch 6/30\n",
      "157/157 [==============================] - 114s 724ms/step - loss: 4.0707 - accuracy: 0.1997 - val_loss: 8.1355 - val_accuracy: 0.0501\n",
      "Epoch 7/30\n",
      "157/157 [==============================] - 133s 847ms/step - loss: 3.8697 - accuracy: 0.2163 - val_loss: 8.8266 - val_accuracy: 0.0472\n",
      "Epoch 8/30\n",
      "157/157 [==============================] - 133s 848ms/step - loss: 3.6736 - accuracy: 0.2339 - val_loss: 9.1995 - val_accuracy: 0.0477\n",
      "Epoch 9/30\n",
      "157/157 [==============================] - 116s 740ms/step - loss: 3.4729 - accuracy: 0.2511 - val_loss: 9.4039 - val_accuracy: 0.0466\n",
      "Epoch 10/30\n",
      "157/157 [==============================] - 113s 720ms/step - loss: 3.2696 - accuracy: 0.2680 - val_loss: 9.9413 - val_accuracy: 0.0494\n",
      "Epoch 11/30\n",
      "157/157 [==============================] - 113s 723ms/step - loss: 3.0763 - accuracy: 0.2836 - val_loss: 10.1650 - val_accuracy: 0.0457\n",
      "Epoch 12/30\n",
      "157/157 [==============================] - 114s 729ms/step - loss: 2.8886 - accuracy: 0.2994 - val_loss: 10.8666 - val_accuracy: 0.0451\n",
      "Epoch 13/30\n",
      "157/157 [==============================] - 114s 724ms/step - loss: 2.7087 - accuracy: 0.3165 - val_loss: 10.8644 - val_accuracy: 0.0426\n",
      "Epoch 14/30\n",
      "157/157 [==============================] - 113s 723ms/step - loss: 2.5283 - accuracy: 0.3344 - val_loss: 11.1484 - val_accuracy: 0.0395\n",
      "Epoch 15/30\n",
      "157/157 [==============================] - 114s 725ms/step - loss: 2.3498 - accuracy: 0.3540 - val_loss: 11.4078 - val_accuracy: 0.0404\n",
      "Epoch 16/30\n",
      "157/157 [==============================] - 113s 721ms/step - loss: 2.1704 - accuracy: 0.3746 - val_loss: 12.0254 - val_accuracy: 0.0395\n",
      "Epoch 17/30\n",
      "157/157 [==============================] - 113s 722ms/step - loss: 1.9937 - accuracy: 0.3958 - val_loss: 12.1720 - val_accuracy: 0.0388\n",
      "Epoch 18/30\n",
      "157/157 [==============================] - 113s 720ms/step - loss: 1.8262 - accuracy: 0.4181 - val_loss: 12.6296 - val_accuracy: 0.0359\n",
      "Epoch 19/30\n",
      "157/157 [==============================] - 113s 720ms/step - loss: 1.6624 - accuracy: 0.4407 - val_loss: 13.0067 - val_accuracy: 0.0364\n",
      "Epoch 20/30\n",
      "157/157 [==============================] - 113s 719ms/step - loss: 1.5086 - accuracy: 0.4631 - val_loss: 13.7224 - val_accuracy: 0.0364\n",
      "Epoch 21/30\n",
      "157/157 [==============================] - 113s 718ms/step - loss: 1.3752 - accuracy: 0.4827 - val_loss: 14.0371 - val_accuracy: 0.0375\n",
      "Epoch 22/30\n",
      "157/157 [==============================] - 113s 719ms/step - loss: 1.2445 - accuracy: 0.5038 - val_loss: 14.7265 - val_accuracy: 0.0373\n",
      "Epoch 23/30\n",
      "157/157 [==============================] - 113s 721ms/step - loss: 1.1294 - accuracy: 0.5217 - val_loss: 14.7210 - val_accuracy: 0.0333\n",
      "Epoch 24/30\n",
      "157/157 [==============================] - 113s 719ms/step - loss: 1.0298 - accuracy: 0.5378 - val_loss: 15.5900 - val_accuracy: 0.0331\n",
      "Epoch 25/30\n",
      "157/157 [==============================] - 113s 722ms/step - loss: 0.9411 - accuracy: 0.5528 - val_loss: 15.7705 - val_accuracy: 0.0315\n",
      "Epoch 26/30\n",
      "157/157 [==============================] - 113s 722ms/step - loss: 0.8678 - accuracy: 0.5664 - val_loss: 15.6129 - val_accuracy: 0.0275\n",
      "Epoch 27/30\n",
      "157/157 [==============================] - 113s 722ms/step - loss: 0.7835 - accuracy: 0.5835 - val_loss: 16.6351 - val_accuracy: 0.0336\n",
      "Epoch 28/30\n",
      "157/157 [==============================] - 113s 724ms/step - loss: 0.6993 - accuracy: 0.6016 - val_loss: 17.2328 - val_accuracy: 0.0339\n",
      "Epoch 29/30\n",
      "157/157 [==============================] - 113s 722ms/step - loss: 0.6277 - accuracy: 0.6182 - val_loss: 17.5022 - val_accuracy: 0.0308\n",
      "Epoch 30/30\n",
      "157/157 [==============================] - 113s 721ms/step - loss: 0.5668 - accuracy: 0.6326 - val_loss: 17.3714 - val_accuracy: 0.0318\n",
      "{'loss': [6.817185878753662, 5.864195823669434, 5.143733024597168, 4.6982879638671875, 4.315886974334717, 4.070700168609619, 3.86972975730896, 3.6735877990722656, 3.472911834716797, 3.2696030139923096, 3.076294422149658, 2.8886163234710693, 2.708728790283203, 2.5282957553863525, 2.3498001098632812, 2.1703717708587646, 1.9937039613723755, 1.826202392578125, 1.6623646020889282, 1.5085904598236084, 1.3752082586288452, 1.2444802522659302, 1.1294077634811401, 1.0297532081604004, 0.9411269426345825, 0.8677611351013184, 0.7835302948951721, 0.6992736458778381, 0.6277110576629639, 0.5668304562568665], 'accuracy': [0.027630768716335297, 0.06236923113465309, 0.10907692462205887, 0.16019487380981445, 0.18420256674289703, 0.1997128278017044, 0.21633845567703247, 0.23386409878730774, 0.25114360451698303, 0.2679820656776428, 0.2836487293243408, 0.2993718087673187, 0.31649744510650635, 0.3344051241874695, 0.3540102541446686, 0.3746102452278137, 0.39582309126853943, 0.4180923104286194, 0.44072309136390686, 0.46314871311187744, 0.4827153980731964, 0.5038333535194397, 0.521697461605072, 0.5378358960151672, 0.552787184715271, 0.5663692355155945, 0.5834845900535583, 0.6015974283218384, 0.6181897521018982, 0.6326076984405518], 'val_loss': [6.699034214019775, 6.455071449279785, 6.7420172691345215, 7.3394341468811035, 7.886890888214111, 8.135464668273926, 8.82662582397461, 9.19951343536377, 9.403883934020996, 9.941325187683105, 10.164963722229004, 10.86658763885498, 10.864364624023438, 11.14836311340332, 11.407776832580566, 12.025373458862305, 12.172040939331055, 12.629593849182129, 13.006739616394043, 13.722448348999023, 14.037073135375977, 14.726451873779297, 14.721022605895996, 15.589963912963867, 15.770472526550293, 15.61291217803955, 16.635080337524414, 17.232791900634766, 17.502248764038086, 17.37139129638672], 'val_accuracy': [0.04264743626117706, 0.05307692289352417, 0.06328846514225006, 0.05193589627742767, 0.05252563953399658, 0.05013461410999298, 0.047179486602544785, 0.047737181186676025, 0.04657692462205887, 0.04935256391763687, 0.04569230601191521, 0.045076921582221985, 0.04263461381196976, 0.039500001817941666, 0.04044871777296066, 0.039519231766462326, 0.03881410136818886, 0.03591666743159294, 0.03637820482254028, 0.036397434771060944, 0.03752564266324043, 0.037301283329725266, 0.03328846022486687, 0.03311538323760033, 0.03150000050663948, 0.027499999850988388, 0.03361538425087929, 0.03385256230831146, 0.03076923079788685, 0.03175000101327896]}\n"
     ]
    },
    {
     "data": {
      "image/png": "[encoded data removed]",
      "text/plain": [
       "<Figure size 432x288 with 1 Axes>"
      ]
     },
     "metadata": {
      "needs_background": "light"
     },
     "output_type": "display_data"
    },
    {
     "data": {
      "image/png": "[encoded data removed]",
      "text/plain": [
       "<Figure size 432x288 with 1 Axes>"
      ]
     },
     "metadata": {
      "needs_background": "light"
     },
     "output_type": "display_data"
    }
   ],
   "source": [
    "EPOCHS = 30\n",
    "\n",
    "# 모델 훈련\n",
    "results = model.fit(dataset, epochs=EPOCHS, validation_data=dataset_val)\n",
    "print(results.history)\n",
    "\n",
    "# 훈련 과정 시각화 (정확도)\n",
    "plt.plot(results.history['accuracy'])\n",
    "plt.plot(results.history['val_accuracy'])\n",
    "plt.title('Model accuracy')\n",
    "plt.xlabel('Epoch')\n",
    "plt.ylabel('Accuracy')\n",
    "plt.legend(['Train', 'Val'], loc='upper left')\n",
    "plt.show()\n",
    "\n",
    "# 훈련 과정 시각화 (손실)\n",
    "plt.plot(results.history['loss'])\n",
    "plt.plot(results.history['val_loss'])\n",
    "plt.title('Model loss')\n",
    "plt.xlabel('Epoch')\n",
    "plt.ylabel('Loss')\n",
    "plt.legend(['Train', 'Val'], loc='upper left')\n",
    "plt.show()"
   ]
  },
  {
   "cell_type": "code",
   "execution_count": 52,
   "id": "e24f6e9a",
   "metadata": {},
   "outputs": [
    {
     "name": "stdout",
     "output_type": "stream",
     "text": [
      "Model: \"transformer\"\n",
      "__________________________________________________________________________________________________\n",
      " Layer (type)                   Output Shape         Param #     Connected to                     \n",
      "==================================================================================================\n",
      " inputs (InputLayer)            [(None, None)]       0           []                               \n",
      "                                                                                                  \n",
      " dec_inputs (InputLayer)        [(None, None)]       0           []                               \n",
      "                                                                                                  \n",
      " enc_padding_mask (Lambda)      (None, 1, 1, None)   0           ['inputs[0][0]']                 \n",
      "                                                                                                  \n",
      " encoder (Functional)           (None, None, 256)    3126784     ['inputs[0][0]',                 \n",
      "                                                                  'enc_padding_mask[0][0]']       \n",
      "                                                                                                  \n",
      " look_ahead_mask (Lambda)       (None, 1, None, Non  0           ['dec_inputs[0][0]']             \n",
      "                                e)                                                                \n",
      "                                                                                                  \n",
      " dec_padding_mask (Lambda)      (None, 1, 1, None)   0           ['inputs[0][0]']                 \n",
      "                                                                                                  \n",
      " decoder (Functional)           (None, None, 256)    3654144     ['dec_inputs[0][0]',             \n",
      "                                                                  'encoder[0][0]',                \n",
      "                                                                  'look_ahead_mask[0][0]',        \n",
      "                                                                  'dec_padding_mask[0][0]']       \n",
      "                                                                                                  \n",
      " outputs (Dense)                (None, None, 8096)   2080672     ['decoder[0][0]']                \n",
      "                                                                                                  \n",
      "==================================================================================================\n",
      "Total params: 8,861,600\n",
      "Trainable params: 8,861,600\n",
      "Non-trainable params: 0\n",
      "__________________________________________________________________________________________________\n"
     ]
    }
   ],
   "source": [
    "model.summary()"
   ]
  },
  {
   "cell_type": "markdown",
   "id": "a76d3191",
   "metadata": {},
   "source": [
    "# 챗봇 평가하기"
   ]
  },
  {
   "cell_type": "code",
   "execution_count": 53,
   "id": "40163d84",
   "metadata": {},
   "outputs": [],
   "source": [
    "def evaluate(sentence):\n",
    "  sentence = preprocess_sentence(sentence)\n",
    "\n",
    "  sentence = tf.expand_dims(\n",
    "      START_TOKEN + tokenizer.encode(sentence) + END_TOKEN, axis=0)\n",
    "\n",
    "  output = tf.expand_dims(START_TOKEN, 0)\n",
    "\n",
    "  # 디코더의 예측 시작\n",
    "  for i in range(MAX_LENGTH):\n",
    "    predictions = model(inputs=[sentence, output], training=False)\n",
    "\n",
    "    # 현재(마지막) 시점의 예측 단어를 받아온다.\n",
    "    predictions = predictions[:, -1:, :]\n",
    "    predicted_id = tf.cast(tf.argmax(predictions, axis=-1), tf.int32)\n",
    "\n",
    "    # 만약 마지막 시점의 예측 단어가 종료 토큰이라면 예측을 중단\n",
    "    if tf.equal(predicted_id, END_TOKEN[0]):\n",
    "      break\n",
    "\n",
    "    # 마지막 시점의 예측 단어를 출력에 연결한다.\n",
    "    # 이는 for문을 통해서 디코더의 입력으로 사용될 예정이다.\n",
    "    output = tf.concat([output, predicted_id], axis=-1)\n",
    "\n",
    "  return tf.squeeze(output, axis=0)\n",
    "\n",
    "\n",
    "def predict(sentence):\n",
    "  prediction = evaluate(sentence)\n",
    "\n",
    "  predicted_sentence = tokenizer.decode(\n",
    "      [i for i in prediction if i < tokenizer.vocab_size])\n",
    "\n",
    "  print('Input: {}'.format(sentence))\n",
    "  print('Output: {}'.format(predicted_sentence))\n",
    "\n",
    "  return predicted_sentence"
   ]
  },
  {
   "cell_type": "code",
   "execution_count": 54,
   "id": "c678187d",
   "metadata": {},
   "outputs": [],
   "source": [
    "def preprocess_sentence(sentence):\n",
    "  sentence = re.sub(r\"([?.!,])\", r\" \\1 \", sentence)\n",
    "  sentence = sentence.strip()\n",
    "  return sentence"
   ]
  },
  {
   "cell_type": "code",
   "execution_count": 55,
   "id": "9721c8e0",
   "metadata": {},
   "outputs": [
    {
     "name": "stdout",
     "output_type": "stream",
     "text": [
      "Input: 그 내용은 부품 사업자가 쉽게 알 수 없고 관여할 수 없기 때문에 중간 부품 생산자의 판매 행위는 대단히 불안한 지위에 놓이게 된다.\n",
      "Output: The contents are placed on the contents of the partnership ,  not the seller is placed in a cargo regarding the particle and high level of a carbond .\n"
     ]
    },
    {
     "data": {
      "text/plain": [
       "\"\\n답 문장: ince the contents are not easily known and involved by the parts business operator, intermediate parts manufacturers' sales behavior is placed in a precarious position.\\n\""
      ]
     },
     "execution_count": 55,
     "metadata": {},
     "output_type": "execute_result"
    }
   ],
   "source": [
    "output = predict('그 내용은 부품 사업자가 쉽게 알 수 없고 관여할 수 없기 때문에 중간 부품 생산자의 판매 행위는 대단히 불안한 지위에 놓이게 된다.')\n",
    "\n",
    "'''\n",
    "답 문장: ince the contents are not easily known and involved by the parts business operator, intermediate parts manufacturers' sales behavior is placed in a precarious position.\n",
    "'''"
   ]
  },
  {
   "cell_type": "code",
   "execution_count": 56,
   "id": "36fab34c",
   "metadata": {},
   "outputs": [
    {
     "name": "stdout",
     "output_type": "stream",
     "text": [
      "Input: AAA는 '취미' 개념을 인간의 마음이 '사고권'과 분리되지 않은 상태를 설명하기 위해 도입함으로써 그리스의 교육 이념으로 명명되었던 칼로카가티아의 의미를 현대적으로 재해석하고 있다는 느낌을 준다.\n",
      "Output: AAA stated that sensory factors in the reputation of human rights in humanitime human eggs ,  mind ,  and impulse itself did not describe it by AAA .\n"
     ]
    },
    {
     "data": {
      "text/plain": [
       "'\\n정답 문장: y introducing the concept of “hobby” to explain the state in which the human mind is not separated from the \\n“right to think,” AAA gives the impression that it is reinterpreting the meaning of Kalos kagathos, \\nwhich was named as the Greek educational ideology, in a modern way.\\n'"
      ]
     },
     "execution_count": 56,
     "metadata": {},
     "output_type": "execute_result"
    }
   ],
   "source": [
    "output = predict(\"AAA는 '취미' 개념을 인간의 마음이 '사고권'과 분리되지 않은 상태를 설명하기 위해 도입함으로써 그리스의 교육 이념으로 명명되었던 칼로카가티아의 의미를 현대적으로 재해석하고 있다는 느낌을 준다.\")\n",
    "\n",
    "'''\n",
    "정답 문장: y introducing the concept of “hobby” to explain the state in which the human mind is not separated from the \n",
    "“right to think,” AAA gives the impression that it is reinterpreting the meaning of Kalos kagathos, \n",
    "which was named as the Greek educational ideology, in a modern way.\n",
    "'''"
   ]
  },
  {
   "cell_type": "code",
   "execution_count": 57,
   "id": "ad482b27",
   "metadata": {},
   "outputs": [
    {
     "name": "stdout",
     "output_type": "stream",
     "text": [
      "Input: 우리는 이제 쌍곡기하학에서 삼각형의 각도의 합계가 π가 되는지 안되는지 볼 수 있는 위치에 있다.\n",
      "Output: We are now in a position to see whether the angles of a triangle in hyperbolic geometry add as a triangle .\n"
     ]
    },
    {
     "data": {
      "text/plain": [
       "'\\n정답 문장: we are now in a position to see whether the angles of a triangle in hyperbolic geometry add up to π or not.\\n'"
      ]
     },
     "execution_count": 57,
     "metadata": {},
     "output_type": "execute_result"
    }
   ],
   "source": [
    "output = predict(\"우리는 이제 쌍곡기하학에서 삼각형의 각도의 합계가 π가 되는지 안되는지 볼 수 있는 위치에 있다.\")\n",
    "\n",
    "'''\n",
    "정답 문장: we are now in a position to see whether the angles of a triangle in hyperbolic geometry add up to π or not.\n",
    "'''"
   ]
  },
  {
   "cell_type": "code",
   "execution_count": 58,
   "id": "9dded1c8",
   "metadata": {},
   "outputs": [
    {
     "name": "stdout",
     "output_type": "stream",
     "text": [
      "Input: 프로젝트 성공할까 ? \n",
      "Output: successful used ,  the pirate of the pile class method .\n"
     ]
    },
    {
     "data": {
      "text/plain": [
       "'\\n정답 문장: Will the project succeed?\\n'"
      ]
     },
     "execution_count": 58,
     "metadata": {},
     "output_type": "execute_result"
    }
   ],
   "source": [
    "output = predict(\"프로젝트 성공할까 ? \")\n",
    "\n",
    "'''\n",
    "정답 문장: Will the project succeed?\n",
    "'''"
   ]
  },
  {
   "cell_type": "code",
   "execution_count": 59,
   "id": "b4a3ce5e",
   "metadata": {},
   "outputs": [
    {
     "name": "stdout",
     "output_type": "stream",
     "text": [
      "Input: 이 문장도 성공할까? \n",
      "Output: Can this physis us sure successful ?\n"
     ]
    },
    {
     "data": {
      "text/plain": [
       "'\\n정답 문장: Will this sentence also work?\\n'"
      ]
     },
     "execution_count": 59,
     "metadata": {},
     "output_type": "execute_result"
    }
   ],
   "source": [
    "output = predict(\"이 문장도 성공할까? \")\n",
    "\n",
    "'''\n",
    "정답 문장: Will this sentence also work?\n",
    "'''"
   ]
  },
  {
   "cell_type": "markdown",
   "id": "adf381c3",
   "metadata": {},
   "source": [
    "형태소 분석을 활용하지 못해서 번역에서 약간 부족한 모습을 보여주었지만, 추후 형태소분석 부분을 추가하면 괜찮은 결과를 나타내줄것으로 예상됨."
   ]
  },
  {
   "cell_type": "code",
   "execution_count": null,
   "id": "bee510dd",
   "metadata": {},
   "outputs": [],
   "source": []
  },
  {
   "cell_type": "code",
   "execution_count": null,
   "id": "13549500",
   "metadata": {},
   "outputs": [],
   "source": []
  },
  {
   "cell_type": "code",
   "execution_count": null,
   "id": "1083ab7b",
   "metadata": {},
   "outputs": [],
   "source": []
  },
  {
   "cell_type": "code",
   "execution_count": null,
   "id": "e9181da4",
   "metadata": {},
   "outputs": [],
   "source": []
  }
 ],
 "metadata": {
  "kernelspec": {
   "display_name": "Python 3.8.12 ('sc41x')",
   "language": "python",
   "name": "python3"
  },
  "language_info": {
   "codemirror_mode": {
    "name": "ipython",
    "version": 3
   },
   "file_extension": ".py",
   "mimetype": "text/x-python",
   "name": "python",
   "nbconvert_exporter": "python",
   "pygments_lexer": "ipython3",
   "version": "3.8.12"
  },
  "vscode": {
   "interpreter": {
    "hash": "1aeec7141efc25ec7cc11d6c1b5187e3d2c27b062494a6539992a5c231b15e08"
   }
  }
 },
 "nbformat": 4,
 "nbformat_minor": 5
}
